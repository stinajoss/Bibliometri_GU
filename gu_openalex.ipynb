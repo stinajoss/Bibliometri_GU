{
  "nbformat": 4,
  "nbformat_minor": 0,
  "metadata": {
    "colab": {
      "provenance": [],
      "authorship_tag": "ABX9TyPjEdqgBmmrh+06SoPlMxt8",
      "include_colab_link": true
    },
    "kernelspec": {
      "name": "python3",
      "display_name": "Python 3"
    },
    "language_info": {
      "name": "python"
    }
  },
  "cells": [
    {
      "cell_type": "markdown",
      "metadata": {
        "id": "view-in-github",
        "colab_type": "text"
      },
      "source": [
        "<a href=\"https://colab.research.google.com/github/stinajoss/Bibliometri_GU/blob/main/gu_openalex.ipynb\" target=\"_parent\"><img src=\"https://colab.research.google.com/assets/colab-badge.svg\" alt=\"Open In Colab\"/></a>"
      ]
    },
    {
      "cell_type": "code",
      "execution_count": null,
      "metadata": {
        "colab": {
          "base_uri": "https://localhost:8080/"
        },
        "id": "lvxCqbWwB2zn",
        "outputId": "1d54412d-391b-450d-8fbb-f89840ed5e0a"
      },
      "outputs": [
        {
          "output_type": "stream",
          "name": "stdout",
          "text": [
            "35182/35182: https://api.openalex.org/works?filter=authorships.institutions.ror:01tm6cn81,publication_year:2018-2023&per-page=200&mailto=lars.kullman@ub.gu.se&cursor=Ils2NS4wLCAwLCAnaHR0cHM6Ly9vcGVuYWxleC5vcmcvVzQzOTEwNzM3NjAnXSI=\n",
            "Total works: 35182\n"
          ]
        }
      ],
      "source": [
        "import requests\n",
        "\n",
        "mailto = \"lars.kullman@ub.gu.se\"  # @param {type:\"string\"}\n",
        "\n",
        "ror_id     = \"01tm6cn81\"  # @param {type:\"string\"}\n",
        "start_year = 2018  # @param {type:\"slider\", min:2015, max:2023, step:1}\n",
        "end_year   = 2023  # @param {type:\"slider\", min:2015, max:2023, step:1}\n",
        "\n",
        "filter = f\"authorships.institutions.ror:{ror_id},publication_year:{start_year}-{end_year}\"\n",
        "api_url = f\"https://api.openalex.org/works?filter={filter}&per-page=200&mailto={mailto}\"\n",
        "\n",
        "cursor = \"*\"  # Cursor for the first request\n",
        "works = []  # List to accumulate all results\n",
        "\n",
        "while cursor:\n",
        "    # Construct the request URL with the current cursor\n",
        "    request_url = api_url + f\"&cursor={cursor}\"\n",
        "\n",
        "    # Get results from the API\n",
        "    page = requests.get(request_url).json()\n",
        "    results = page.get('results')\n",
        "    meta = page.get('meta')\n",
        "\n",
        "    # Accumulate results\n",
        "    works += results\n",
        "\n",
        "    # Get the next cursor from the current results\n",
        "    cursor = meta.get('next_cursor')\n",
        "\n",
        "    # Print progress\n",
        "    total = int(meta.get(\"count\"))\n",
        "    print(f\"\\r{len(works)}/{total}: {request_url}\", end=\"\")\n",
        "\n",
        "# Do something with all results\n",
        "print(f\"\\nTotal works: {len(works)}\")"
      ]
    },
    {
      "cell_type": "code",
      "source": [
        "import pandas as pd\n",
        "\n",
        "# Create a list of dictionaries with the extracted fields\n",
        "data = []\n",
        "for work in works:\n",
        "    id = work.get('id').replace(\"https://openalex.org/\", \"\")\n",
        "    publication_year = work.get('publication_year')\n",
        "    doi = work.get('doi')\n",
        "    if doi:\n",
        "        doi = doi.replace(\"https://doi.org/\", \"\")\n",
        "    else:\n",
        "        doi = \"N/A\"  # Set a default value if 'doi' is None\n",
        "\n",
        "    pubtype = work['type']\n",
        "\n",
        "    # Check if 'title' exists and is not None\n",
        "    if work.get('title'):\n",
        "        title = work['title'][:99]\n",
        "    else:\n",
        "        title = \"N/A\"  # Set a default value if 'title' is None\n",
        "\n",
        "    # Check if 'primary_location' exists and is not None\n",
        "    if work.get('primary_location') and work['primary_location'].get('source'):\n",
        "        source = work['primary_location']['source']['display_name']\n",
        "    else:\n",
        "        source = \"N/A\"  # Set a default value if 'primary_location' or 'source' is None\n",
        "\n",
        "    is_oa = work['open_access']['is_oa']\n",
        "    oa_status = work['open_access']['oa_status']\n",
        "    oa_url = work['open_access']['oa_url']\n",
        "\n",
        "    # Append the extracted fields to the list of dictionaries\n",
        "    data.append({\n",
        "        'id': id,\n",
        "        'publication_year': publication_year,\n",
        "        'doi': doi,\n",
        "        'Publication_type': pubtype,\n",
        "        'title': title,\n",
        "        'source': source,\n",
        "        'is_oa': is_oa,\n",
        "        'oa_status': oa_status,\n",
        "        'oa_url': oa_url\n",
        "    })\n",
        "\n",
        "# Create a Pandas DataFrame from the list of dictionaries\n",
        "df = pd.DataFrame(data)\n",
        "\n",
        "# Specify the output file name (change as needed)\n",
        "output_file = 'gu_openalex_2018-2023.xlsx'\n",
        "\n",
        "# Export the DataFrame to an Excel file\n",
        "df.to_excel(output_file, index=False)\n",
        "\n",
        "print(f\"DataFrame exported to {output_file}\")\n"
      ],
      "metadata": {
        "colab": {
          "base_uri": "https://localhost:8080/"
        },
        "id": "sjCngzbGJjGG",
        "outputId": "4cda9cce-e842-46a2-ded9-e2965fc2d9a7"
      },
      "execution_count": null,
      "outputs": [
        {
          "output_type": "stream",
          "name": "stdout",
          "text": [
            "DataFrame exported to gu_openalex_2018-2023.csv\n"
          ]
        }
      ]
    }
  ]
}
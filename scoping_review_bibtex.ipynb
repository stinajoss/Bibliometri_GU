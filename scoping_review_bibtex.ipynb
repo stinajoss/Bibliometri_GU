{
  "nbformat": 4,
  "nbformat_minor": 0,
  "metadata": {
    "colab": {
      "provenance": [],
      "authorship_tag": "ABX9TyMP58tlafbdFB/RdEPq6ox3",
      "include_colab_link": true
    },
    "kernelspec": {
      "name": "python3",
      "display_name": "Python 3"
    },
    "language_info": {
      "name": "python"
    }
  },
  "cells": [
    {
      "cell_type": "markdown",
      "metadata": {
        "id": "view-in-github",
        "colab_type": "text"
      },
      "source": [
        "<a href=\"https://colab.research.google.com/github/stinajoss/Bibliometri_GU/blob/main/scoping_review_bibtex.ipynb\" target=\"_parent\"><img src=\"https://colab.research.google.com/assets/colab-badge.svg\" alt=\"Open In Colab\"/></a>"
      ]
    },
    {
      "cell_type": "code",
      "execution_count": 5,
      "metadata": {
        "colab": {
          "base_uri": "https://localhost:8080/"
        },
        "id": "ThmznJkkkDaS",
        "outputId": "c015e1d1-cbb5-46bb-df93-ec4f2ca098c1"
      },
      "outputs": [
        {
          "output_type": "stream",
          "name": "stdout",
          "text": [
            "The bibliometric analysis was successfully completed and the results were saved to 'gpcc_scoping_review.xlsx'.\n"
          ]
        }
      ],
      "source": [
        "import pandas as pd\n",
        "import bibtexparser\n",
        "from Bio import Entrez\n",
        "\n",
        "# Load BibTeX file\n",
        "with open('bibtex_gpcc.bib') as bibtex_file:\n",
        "    bib_database = bibtexparser.load(bibtex_file)\n",
        "\n",
        "# Set your email here\n",
        "Entrez.email = \"your_email\"\n",
        "\n",
        "# Initialize an empty list\n",
        "data = []\n",
        "\n",
        "for entry in bib_database.entries:\n",
        "    # Extract information\n",
        "    title = entry.get('title', 'N/A')\n",
        "    authors = entry.get('author', 'N/A')\n",
        "    year = entry.get('year', 'N/A')\n",
        "    journal = entry.get('journal', 'N/A')\n",
        "    doi = entry.get('doi', 'N/A')  # Extract the DOI\n",
        "    url = entry.get('url', 'N/A')  # Extract the URL\n",
        "\n",
        "    # Search PubMed by title, author, and year\n",
        "    handle = Entrez.esearch(db='pubmed', term=f\"{title}[Title] AND {year}[Date - Publication]\")\n",
        "    record = Entrez.read(handle)\n",
        "    pubid = record['IdList'][0] if record['IdList'] else None\n",
        "\n",
        "    # Add the information to the list\n",
        "    data.append({'title': title, 'author': authors, 'source': journal, 'year': year, 'doi': doi, 'pubid': pubid, 'url': url})\n",
        "\n",
        "# Convert the list to a DataFrame\n",
        "df = pd.DataFrame(data)\n",
        "\n",
        "# Save the DataFrame to an Excel file\n",
        "df.to_excel('name_of_file.xlsx', index=False)\n",
        "\n",
        "\n",
        "\n",
        "\n"
      ]
    }
  ]
}
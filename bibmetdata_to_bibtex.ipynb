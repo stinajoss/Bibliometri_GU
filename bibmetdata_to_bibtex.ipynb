{
  "nbformat": 4,
  "nbformat_minor": 0,
  "metadata": {
    "colab": {
      "provenance": [],
      "authorship_tag": "ABX9TyNzu6PHvjfAWDINpUypp6Sk"
    },
    "kernelspec": {
      "name": "python3",
      "display_name": "Python 3"
    },
    "language_info": {
      "name": "python"
    }
  },
  "cells": [
    {
      "cell_type": "code",
      "execution_count": null,
      "metadata": {
        "id": "ue4EhjjYBhbK"
      },
      "outputs": [],
      "source": [
        "import pandas as pd\n",
        "from bibtexparser.bwriter import BibTexWriter\n",
        "from bibtexparser.bibdatabase import BibDatabase\n",
        "\n",
        "# Load the Excel file\n",
        "df = pd.read_excel('your_directory/filename.xlsx')\n",
        "\n",
        "# Create a BibDatabase\n",
        "db = BibDatabase()\n",
        "db.entries = []\n",
        "\n",
        "# Iterate over each row in the DataFrame\n",
        "for index, row in df.iterrows():\n",
        "    # Create a dictionary for each row\n",
        "    entry = {\n",
        "        'ENTRYTYPE': 'article',\n",
        "        'ID': f'paper{index}',\n",
        "        'author': row['author'] if pd.notna(row['author']) else '',\n",
        "        'year': str(row['pubyear']) if pd.notna(row['pubyear']) else '',\n",
        "        'title': row['title'] if pd.notna(row['title']) else '',\n",
        "        'journal': row['sourcetitle'] if pd.notna(row['sourcetitle']) else '',\n",
        "        'volume': str(row['sourcevolume']) if pd.notna(row['sourcevolume']) else '',\n",
        "        'number': str(row['sourceissue']) if pd.notna(row['sourceissue']) else '',\n",
        "        'pages': str(row['sourcepages']) if pd.notna(row['sourcepages']) else '',\n",
        "        'doi': row['doi'] if pd.notna(row['doi']) else ''\n",
        "    }\n",
        "    # Add the dictionary to the entries in the database\n",
        "    db.entries.append(entry)\n",
        "\n",
        "# Create a BibTexWriter\n",
        "writer = BibTexWriter()\n",
        "\n",
        "# Write the database to a BibTeX string\n",
        "bibtex_str = writer.write(db)\n",
        "\n",
        "# Write the string to a file\n",
        "with open('your_directory/output.bib', 'w', encoding='utf-8') as bibfile:\n",
        "    bibfile.write(bibtex_str)\n",
        "\n",
        "print(\"The BibTeX file has been successfully created as output.bib.\")"
      ]
    }
  ]
}